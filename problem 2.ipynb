{
  "nbformat": 4,
  "nbformat_minor": 0,
  "metadata": {
    "colab": {
      "provenance": []
    },
    "kernelspec": {
      "name": "python3",
      "display_name": "Python 3"
    },
    "language_info": {
      "name": "python"
    }
  },
  "cells": [
    {
      "cell_type": "markdown",
      "source": [
        "##Importing the dataset"
      ],
      "metadata": {
        "id": "KVrYrW97NGz-"
      }
    },
    {
      "cell_type": "code",
      "execution_count": 1,
      "metadata": {
        "id": "k5-WNTe9HfjX"
      },
      "outputs": [],
      "source": [
        "import numpy as np\n",
        "import matplotlib.pyplot as plt\n",
        "import pandas as pd\n",
        "import seaborn as sns"
      ]
    },
    {
      "cell_type": "code",
      "source": [
        "import pandas as pd\n",
        "url='https://drive.google.com/file/d/1oSSlDKz2q0kMYjLcUmC-yjaF0hxyOPo5/view?usp=share_link'\n",
        "url='https://drive.google.com/uc?id=' + url.split('/')[-2]\n",
        "dataset = pd.read_csv(url, skiprows=52)"
      ],
      "metadata": {
        "id": "R-6btOFXIFwP"
      },
      "execution_count": 2,
      "outputs": []
    },
    {
      "cell_type": "code",
      "source": [
        "dataset.head()"
      ],
      "metadata": {
        "colab": {
          "base_uri": "https://localhost:8080/",
          "height": 255
        },
        "id": "YbV1GykmM2yI",
        "outputId": "98d37965-60b6-41e8-e175-9f4aad8fd582"
      },
      "execution_count": 3,
      "outputs": [
        {
          "output_type": "execute_result",
          "data": {
            "text/plain": [
              "      kepid kepoi_name   kepler_name koi_disposition koi_pdisposition  \\\n",
              "0  10797460  K00752.01  Kepler-227 b       CONFIRMED        CANDIDATE   \n",
              "1  10797460  K00752.02  Kepler-227 c       CONFIRMED        CANDIDATE   \n",
              "2  10811496  K00753.01           NaN       CANDIDATE        CANDIDATE   \n",
              "3  10848459  K00754.01           NaN  FALSE POSITIVE   FALSE POSITIVE   \n",
              "4  10854555  K00755.01  Kepler-664 b       CONFIRMED        CANDIDATE   \n",
              "\n",
              "   koi_score  koi_fpflag_nt  koi_fpflag_ss  koi_fpflag_co  koi_fpflag_ec  ...  \\\n",
              "0      1.000              0              0              0              0  ...   \n",
              "1      0.969              0              0              0              0  ...   \n",
              "2      0.000              0              0              0              0  ...   \n",
              "3      0.000              0              1              0              0  ...   \n",
              "4      1.000              0              0              0              0  ...   \n",
              "\n",
              "   koi_steff_err2  koi_slogg  koi_slogg_err1  koi_slogg_err2  koi_srad  \\\n",
              "0           -81.0      4.467           0.064          -0.096     0.927   \n",
              "1           -81.0      4.467           0.064          -0.096     0.927   \n",
              "2          -176.0      4.544           0.044          -0.176     0.868   \n",
              "3          -174.0      4.564           0.053          -0.168     0.791   \n",
              "4          -211.0      4.438           0.070          -0.210     1.046   \n",
              "\n",
              "   koi_srad_err1  koi_srad_err2         ra        dec  koi_kepmag  \n",
              "0          0.105         -0.061  291.93423  48.141651      15.347  \n",
              "1          0.105         -0.061  291.93423  48.141651      15.347  \n",
              "2          0.233         -0.078  297.00482  48.134129      15.436  \n",
              "3          0.201         -0.067  285.53461  48.285210      15.597  \n",
              "4          0.334         -0.133  288.75488  48.226200      15.509  \n",
              "\n",
              "[5 rows x 49 columns]"
            ],
            "text/html": [
              "\n",
              "  <div id=\"df-52799f87-7027-40bf-8a08-7b773bb93f37\" class=\"colab-df-container\">\n",
              "    <div>\n",
              "<style scoped>\n",
              "    .dataframe tbody tr th:only-of-type {\n",
              "        vertical-align: middle;\n",
              "    }\n",
              "\n",
              "    .dataframe tbody tr th {\n",
              "        vertical-align: top;\n",
              "    }\n",
              "\n",
              "    .dataframe thead th {\n",
              "        text-align: right;\n",
              "    }\n",
              "</style>\n",
              "<table border=\"1\" class=\"dataframe\">\n",
              "  <thead>\n",
              "    <tr style=\"text-align: right;\">\n",
              "      <th></th>\n",
              "      <th>kepid</th>\n",
              "      <th>kepoi_name</th>\n",
              "      <th>kepler_name</th>\n",
              "      <th>koi_disposition</th>\n",
              "      <th>koi_pdisposition</th>\n",
              "      <th>koi_score</th>\n",
              "      <th>koi_fpflag_nt</th>\n",
              "      <th>koi_fpflag_ss</th>\n",
              "      <th>koi_fpflag_co</th>\n",
              "      <th>koi_fpflag_ec</th>\n",
              "      <th>...</th>\n",
              "      <th>koi_steff_err2</th>\n",
              "      <th>koi_slogg</th>\n",
              "      <th>koi_slogg_err1</th>\n",
              "      <th>koi_slogg_err2</th>\n",
              "      <th>koi_srad</th>\n",
              "      <th>koi_srad_err1</th>\n",
              "      <th>koi_srad_err2</th>\n",
              "      <th>ra</th>\n",
              "      <th>dec</th>\n",
              "      <th>koi_kepmag</th>\n",
              "    </tr>\n",
              "  </thead>\n",
              "  <tbody>\n",
              "    <tr>\n",
              "      <th>0</th>\n",
              "      <td>10797460</td>\n",
              "      <td>K00752.01</td>\n",
              "      <td>Kepler-227 b</td>\n",
              "      <td>CONFIRMED</td>\n",
              "      <td>CANDIDATE</td>\n",
              "      <td>1.000</td>\n",
              "      <td>0</td>\n",
              "      <td>0</td>\n",
              "      <td>0</td>\n",
              "      <td>0</td>\n",
              "      <td>...</td>\n",
              "      <td>-81.0</td>\n",
              "      <td>4.467</td>\n",
              "      <td>0.064</td>\n",
              "      <td>-0.096</td>\n",
              "      <td>0.927</td>\n",
              "      <td>0.105</td>\n",
              "      <td>-0.061</td>\n",
              "      <td>291.93423</td>\n",
              "      <td>48.141651</td>\n",
              "      <td>15.347</td>\n",
              "    </tr>\n",
              "    <tr>\n",
              "      <th>1</th>\n",
              "      <td>10797460</td>\n",
              "      <td>K00752.02</td>\n",
              "      <td>Kepler-227 c</td>\n",
              "      <td>CONFIRMED</td>\n",
              "      <td>CANDIDATE</td>\n",
              "      <td>0.969</td>\n",
              "      <td>0</td>\n",
              "      <td>0</td>\n",
              "      <td>0</td>\n",
              "      <td>0</td>\n",
              "      <td>...</td>\n",
              "      <td>-81.0</td>\n",
              "      <td>4.467</td>\n",
              "      <td>0.064</td>\n",
              "      <td>-0.096</td>\n",
              "      <td>0.927</td>\n",
              "      <td>0.105</td>\n",
              "      <td>-0.061</td>\n",
              "      <td>291.93423</td>\n",
              "      <td>48.141651</td>\n",
              "      <td>15.347</td>\n",
              "    </tr>\n",
              "    <tr>\n",
              "      <th>2</th>\n",
              "      <td>10811496</td>\n",
              "      <td>K00753.01</td>\n",
              "      <td>NaN</td>\n",
              "      <td>CANDIDATE</td>\n",
              "      <td>CANDIDATE</td>\n",
              "      <td>0.000</td>\n",
              "      <td>0</td>\n",
              "      <td>0</td>\n",
              "      <td>0</td>\n",
              "      <td>0</td>\n",
              "      <td>...</td>\n",
              "      <td>-176.0</td>\n",
              "      <td>4.544</td>\n",
              "      <td>0.044</td>\n",
              "      <td>-0.176</td>\n",
              "      <td>0.868</td>\n",
              "      <td>0.233</td>\n",
              "      <td>-0.078</td>\n",
              "      <td>297.00482</td>\n",
              "      <td>48.134129</td>\n",
              "      <td>15.436</td>\n",
              "    </tr>\n",
              "    <tr>\n",
              "      <th>3</th>\n",
              "      <td>10848459</td>\n",
              "      <td>K00754.01</td>\n",
              "      <td>NaN</td>\n",
              "      <td>FALSE POSITIVE</td>\n",
              "      <td>FALSE POSITIVE</td>\n",
              "      <td>0.000</td>\n",
              "      <td>0</td>\n",
              "      <td>1</td>\n",
              "      <td>0</td>\n",
              "      <td>0</td>\n",
              "      <td>...</td>\n",
              "      <td>-174.0</td>\n",
              "      <td>4.564</td>\n",
              "      <td>0.053</td>\n",
              "      <td>-0.168</td>\n",
              "      <td>0.791</td>\n",
              "      <td>0.201</td>\n",
              "      <td>-0.067</td>\n",
              "      <td>285.53461</td>\n",
              "      <td>48.285210</td>\n",
              "      <td>15.597</td>\n",
              "    </tr>\n",
              "    <tr>\n",
              "      <th>4</th>\n",
              "      <td>10854555</td>\n",
              "      <td>K00755.01</td>\n",
              "      <td>Kepler-664 b</td>\n",
              "      <td>CONFIRMED</td>\n",
              "      <td>CANDIDATE</td>\n",
              "      <td>1.000</td>\n",
              "      <td>0</td>\n",
              "      <td>0</td>\n",
              "      <td>0</td>\n",
              "      <td>0</td>\n",
              "      <td>...</td>\n",
              "      <td>-211.0</td>\n",
              "      <td>4.438</td>\n",
              "      <td>0.070</td>\n",
              "      <td>-0.210</td>\n",
              "      <td>1.046</td>\n",
              "      <td>0.334</td>\n",
              "      <td>-0.133</td>\n",
              "      <td>288.75488</td>\n",
              "      <td>48.226200</td>\n",
              "      <td>15.509</td>\n",
              "    </tr>\n",
              "  </tbody>\n",
              "</table>\n",
              "<p>5 rows × 49 columns</p>\n",
              "</div>\n",
              "    <div class=\"colab-df-buttons\">\n",
              "\n",
              "  <div class=\"colab-df-container\">\n",
              "    <button class=\"colab-df-convert\" onclick=\"convertToInteractive('df-52799f87-7027-40bf-8a08-7b773bb93f37')\"\n",
              "            title=\"Convert this dataframe to an interactive table.\"\n",
              "            style=\"display:none;\">\n",
              "\n",
              "  <svg xmlns=\"http://www.w3.org/2000/svg\" height=\"24px\" viewBox=\"0 -960 960 960\">\n",
              "    <path d=\"M120-120v-720h720v720H120Zm60-500h600v-160H180v160Zm220 220h160v-160H400v160Zm0 220h160v-160H400v160ZM180-400h160v-160H180v160Zm440 0h160v-160H620v160ZM180-180h160v-160H180v160Zm440 0h160v-160H620v160Z\"/>\n",
              "  </svg>\n",
              "    </button>\n",
              "\n",
              "  <style>\n",
              "    .colab-df-container {\n",
              "      display:flex;\n",
              "      gap: 12px;\n",
              "    }\n",
              "\n",
              "    .colab-df-convert {\n",
              "      background-color: #E8F0FE;\n",
              "      border: none;\n",
              "      border-radius: 50%;\n",
              "      cursor: pointer;\n",
              "      display: none;\n",
              "      fill: #1967D2;\n",
              "      height: 32px;\n",
              "      padding: 0 0 0 0;\n",
              "      width: 32px;\n",
              "    }\n",
              "\n",
              "    .colab-df-convert:hover {\n",
              "      background-color: #E2EBFA;\n",
              "      box-shadow: 0px 1px 2px rgba(60, 64, 67, 0.3), 0px 1px 3px 1px rgba(60, 64, 67, 0.15);\n",
              "      fill: #174EA6;\n",
              "    }\n",
              "\n",
              "    .colab-df-buttons div {\n",
              "      margin-bottom: 4px;\n",
              "    }\n",
              "\n",
              "    [theme=dark] .colab-df-convert {\n",
              "      background-color: #3B4455;\n",
              "      fill: #D2E3FC;\n",
              "    }\n",
              "\n",
              "    [theme=dark] .colab-df-convert:hover {\n",
              "      background-color: #434B5C;\n",
              "      box-shadow: 0px 1px 3px 1px rgba(0, 0, 0, 0.15);\n",
              "      filter: drop-shadow(0px 1px 2px rgba(0, 0, 0, 0.3));\n",
              "      fill: #FFFFFF;\n",
              "    }\n",
              "  </style>\n",
              "\n",
              "    <script>\n",
              "      const buttonEl =\n",
              "        document.querySelector('#df-52799f87-7027-40bf-8a08-7b773bb93f37 button.colab-df-convert');\n",
              "      buttonEl.style.display =\n",
              "        google.colab.kernel.accessAllowed ? 'block' : 'none';\n",
              "\n",
              "      async function convertToInteractive(key) {\n",
              "        const element = document.querySelector('#df-52799f87-7027-40bf-8a08-7b773bb93f37');\n",
              "        const dataTable =\n",
              "          await google.colab.kernel.invokeFunction('convertToInteractive',\n",
              "                                                    [key], {});\n",
              "        if (!dataTable) return;\n",
              "\n",
              "        const docLinkHtml = 'Like what you see? Visit the ' +\n",
              "          '<a target=\"_blank\" href=https://colab.research.google.com/notebooks/data_table.ipynb>data table notebook</a>'\n",
              "          + ' to learn more about interactive tables.';\n",
              "        element.innerHTML = '';\n",
              "        dataTable['output_type'] = 'display_data';\n",
              "        await google.colab.output.renderOutput(dataTable, element);\n",
              "        const docLink = document.createElement('div');\n",
              "        docLink.innerHTML = docLinkHtml;\n",
              "        element.appendChild(docLink);\n",
              "      }\n",
              "    </script>\n",
              "  </div>\n",
              "\n",
              "\n",
              "<div id=\"df-f05718ea-23f3-48c6-bfe2-114e897dfa80\">\n",
              "  <button class=\"colab-df-quickchart\" onclick=\"quickchart('df-f05718ea-23f3-48c6-bfe2-114e897dfa80')\"\n",
              "            title=\"Suggest charts.\"\n",
              "            style=\"display:none;\">\n",
              "\n",
              "<svg xmlns=\"http://www.w3.org/2000/svg\" height=\"24px\"viewBox=\"0 0 24 24\"\n",
              "     width=\"24px\">\n",
              "    <g>\n",
              "        <path d=\"M19 3H5c-1.1 0-2 .9-2 2v14c0 1.1.9 2 2 2h14c1.1 0 2-.9 2-2V5c0-1.1-.9-2-2-2zM9 17H7v-7h2v7zm4 0h-2V7h2v10zm4 0h-2v-4h2v4z\"/>\n",
              "    </g>\n",
              "</svg>\n",
              "  </button>\n",
              "\n",
              "<style>\n",
              "  .colab-df-quickchart {\n",
              "      --bg-color: #E8F0FE;\n",
              "      --fill-color: #1967D2;\n",
              "      --hover-bg-color: #E2EBFA;\n",
              "      --hover-fill-color: #174EA6;\n",
              "      --disabled-fill-color: #AAA;\n",
              "      --disabled-bg-color: #DDD;\n",
              "  }\n",
              "\n",
              "  [theme=dark] .colab-df-quickchart {\n",
              "      --bg-color: #3B4455;\n",
              "      --fill-color: #D2E3FC;\n",
              "      --hover-bg-color: #434B5C;\n",
              "      --hover-fill-color: #FFFFFF;\n",
              "      --disabled-bg-color: #3B4455;\n",
              "      --disabled-fill-color: #666;\n",
              "  }\n",
              "\n",
              "  .colab-df-quickchart {\n",
              "    background-color: var(--bg-color);\n",
              "    border: none;\n",
              "    border-radius: 50%;\n",
              "    cursor: pointer;\n",
              "    display: none;\n",
              "    fill: var(--fill-color);\n",
              "    height: 32px;\n",
              "    padding: 0;\n",
              "    width: 32px;\n",
              "  }\n",
              "\n",
              "  .colab-df-quickchart:hover {\n",
              "    background-color: var(--hover-bg-color);\n",
              "    box-shadow: 0 1px 2px rgba(60, 64, 67, 0.3), 0 1px 3px 1px rgba(60, 64, 67, 0.15);\n",
              "    fill: var(--button-hover-fill-color);\n",
              "  }\n",
              "\n",
              "  .colab-df-quickchart-complete:disabled,\n",
              "  .colab-df-quickchart-complete:disabled:hover {\n",
              "    background-color: var(--disabled-bg-color);\n",
              "    fill: var(--disabled-fill-color);\n",
              "    box-shadow: none;\n",
              "  }\n",
              "\n",
              "  .colab-df-spinner {\n",
              "    border: 2px solid var(--fill-color);\n",
              "    border-color: transparent;\n",
              "    border-bottom-color: var(--fill-color);\n",
              "    animation:\n",
              "      spin 1s steps(1) infinite;\n",
              "  }\n",
              "\n",
              "  @keyframes spin {\n",
              "    0% {\n",
              "      border-color: transparent;\n",
              "      border-bottom-color: var(--fill-color);\n",
              "      border-left-color: var(--fill-color);\n",
              "    }\n",
              "    20% {\n",
              "      border-color: transparent;\n",
              "      border-left-color: var(--fill-color);\n",
              "      border-top-color: var(--fill-color);\n",
              "    }\n",
              "    30% {\n",
              "      border-color: transparent;\n",
              "      border-left-color: var(--fill-color);\n",
              "      border-top-color: var(--fill-color);\n",
              "      border-right-color: var(--fill-color);\n",
              "    }\n",
              "    40% {\n",
              "      border-color: transparent;\n",
              "      border-right-color: var(--fill-color);\n",
              "      border-top-color: var(--fill-color);\n",
              "    }\n",
              "    60% {\n",
              "      border-color: transparent;\n",
              "      border-right-color: var(--fill-color);\n",
              "    }\n",
              "    80% {\n",
              "      border-color: transparent;\n",
              "      border-right-color: var(--fill-color);\n",
              "      border-bottom-color: var(--fill-color);\n",
              "    }\n",
              "    90% {\n",
              "      border-color: transparent;\n",
              "      border-bottom-color: var(--fill-color);\n",
              "    }\n",
              "  }\n",
              "</style>\n",
              "\n",
              "  <script>\n",
              "    async function quickchart(key) {\n",
              "      const quickchartButtonEl =\n",
              "        document.querySelector('#' + key + ' button');\n",
              "      quickchartButtonEl.disabled = true;  // To prevent multiple clicks.\n",
              "      quickchartButtonEl.classList.add('colab-df-spinner');\n",
              "      try {\n",
              "        const charts = await google.colab.kernel.invokeFunction(\n",
              "            'suggestCharts', [key], {});\n",
              "      } catch (error) {\n",
              "        console.error('Error during call to suggestCharts:', error);\n",
              "      }\n",
              "      quickchartButtonEl.classList.remove('colab-df-spinner');\n",
              "      quickchartButtonEl.classList.add('colab-df-quickchart-complete');\n",
              "    }\n",
              "    (() => {\n",
              "      let quickchartButtonEl =\n",
              "        document.querySelector('#df-f05718ea-23f3-48c6-bfe2-114e897dfa80 button');\n",
              "      quickchartButtonEl.style.display =\n",
              "        google.colab.kernel.accessAllowed ? 'block' : 'none';\n",
              "    })();\n",
              "  </script>\n",
              "</div>\n",
              "    </div>\n",
              "  </div>\n"
            ]
          },
          "metadata": {},
          "execution_count": 3
        }
      ]
    },
    {
      "cell_type": "markdown",
      "source": [
        "##Data Preprocessing\n"
      ],
      "metadata": {
        "id": "21FSvQ_PSTyr"
      }
    },
    {
      "cell_type": "markdown",
      "source": [
        "Koi_time0bk and koi_time0bk_err1 and 2 aren't useful because theyre the time of the first detected transit minus some offset. The non numeric columns aren't useful either.\n",
        "\n",
        "Also koi_teq_err1 and 2 are all null columns, so we'll drop them.\n",
        "\n",
        "koi_score is not needed. It is the probability values for the categorization.\n",
        "\n",
        "Hence we'll remove all the non-numeric columns and then these unrequired columns.\n"
      ],
      "metadata": {
        "id": "pLK7qvpIWui7"
      }
    },
    {
      "cell_type": "code",
      "source": [
        "num_data = dataset.copy()\n",
        "\n",
        "# removing string type columns from dataframe\n",
        "num_data = pd.concat([num_data['koi_disposition'], num_data['koi_pdisposition'], num_data.select_dtypes(exclude=['object']).copy()], axis=1)\n",
        "\n",
        "# removing columns that arent needed\n",
        "num_data.drop(['kepid', 'koi_pdisposition', 'koi_score', 'koi_time0bk', 'koi_time0bk_err1', 'koi_time0bk_err2', 'koi_teq_err1', 'koi_teq_err2'], axis = 1, inplace = True)"
      ],
      "metadata": {
        "id": "ERI_A-04Kyox"
      },
      "execution_count": 4,
      "outputs": []
    },
    {
      "cell_type": "markdown",
      "source": [
        "###Taking care of missing values\n"
      ],
      "metadata": {
        "id": "3eQQ7rEKQ3m7"
      }
    },
    {
      "cell_type": "code",
      "source": [
        "num_data.isnull().sum() #identifying and displaying missing data"
      ],
      "metadata": {
        "colab": {
          "base_uri": "https://localhost:8080/"
        },
        "id": "hyOdLbdpRj1O",
        "outputId": "181daca4-41e0-449c-b98f-dbab2247a445"
      },
      "execution_count": 5,
      "outputs": [
        {
          "output_type": "execute_result",
          "data": {
            "text/plain": [
              "koi_disposition        0\n",
              "koi_fpflag_nt          0\n",
              "koi_fpflag_ss          0\n",
              "koi_fpflag_co          0\n",
              "koi_fpflag_ec          0\n",
              "koi_period             0\n",
              "koi_period_err1      454\n",
              "koi_period_err2      454\n",
              "koi_impact           363\n",
              "koi_impact_err1      454\n",
              "koi_impact_err2      454\n",
              "koi_duration           0\n",
              "koi_duration_err1    454\n",
              "koi_duration_err2    454\n",
              "koi_depth            363\n",
              "koi_depth_err1       454\n",
              "koi_depth_err2       454\n",
              "koi_prad             363\n",
              "koi_prad_err1        363\n",
              "koi_prad_err2        363\n",
              "koi_teq              363\n",
              "koi_insol            321\n",
              "koi_insol_err1       321\n",
              "koi_insol_err2       321\n",
              "koi_model_snr        363\n",
              "koi_tce_plnt_num     346\n",
              "koi_steff            363\n",
              "koi_steff_err1       468\n",
              "koi_steff_err2       483\n",
              "koi_slogg            363\n",
              "koi_slogg_err1       468\n",
              "koi_slogg_err2       468\n",
              "koi_srad             363\n",
              "koi_srad_err1        468\n",
              "koi_srad_err2        468\n",
              "ra                     0\n",
              "dec                    0\n",
              "koi_kepmag             1\n",
              "dtype: int64"
            ]
          },
          "metadata": {},
          "execution_count": 5
        }
      ]
    },
    {
      "cell_type": "code",
      "source": [
        "# discarding the rows containing null values\n",
        "num_data = num_data[num_data.isnull().sum(axis=1) == 0]"
      ],
      "metadata": {
        "id": "B6UxNRcdXY9i"
      },
      "execution_count": 6,
      "outputs": []
    },
    {
      "cell_type": "code",
      "source": [
        "num_data.describe()"
      ],
      "metadata": {
        "colab": {
          "base_uri": "https://localhost:8080/",
          "height": 349
        },
        "id": "dX_ImeuOXxfH",
        "outputId": "306317a2-5321-4c53-e11e-79823ca14b44"
      },
      "execution_count": 7,
      "outputs": [
        {
          "output_type": "execute_result",
          "data": {
            "text/plain": [
              "       koi_fpflag_nt  koi_fpflag_ss  koi_fpflag_co  koi_fpflag_ec  \\\n",
              "count    8744.000000    8744.000000    8744.000000    8744.000000   \n",
              "mean        0.183211       0.242681       0.203454       0.125000   \n",
              "std         4.982739       0.428728       0.402590       0.330738   \n",
              "min         0.000000       0.000000       0.000000       0.000000   \n",
              "25%         0.000000       0.000000       0.000000       0.000000   \n",
              "50%         0.000000       0.000000       0.000000       0.000000   \n",
              "75%         0.000000       0.000000       0.000000       0.000000   \n",
              "max       465.000000       1.000000       1.000000       1.000000   \n",
              "\n",
              "        koi_period  koi_period_err1  koi_period_err2   koi_impact  \\\n",
              "count  8744.000000     8.744000e+03     8.744000e+03  8744.000000   \n",
              "mean     56.080618     1.839523e-03    -1.839523e-03     0.718315   \n",
              "std     117.385280     7.276504e-03     7.276504e-03     3.176618   \n",
              "min       0.259820     1.100000e-08    -1.568000e-01     0.000000   \n",
              "25%       2.667824     5.286750e-06    -2.456250e-04     0.197000   \n",
              "50%       8.970985     3.323000e-05    -3.323000e-05     0.540500   \n",
              "75%      34.190033     2.456250e-04    -5.286750e-06     0.889000   \n",
              "max    1071.232624     1.568000e-01    -1.100000e-08   100.806000   \n",
              "\n",
              "       koi_impact_err1  koi_impact_err2  ...  koi_steff_err2    koi_slogg  \\\n",
              "count      8744.000000      8744.000000  ...     8744.000000  8744.000000   \n",
              "mean          1.972656        -0.330185  ...     -161.354758     4.310223   \n",
              "std           9.464462         1.227048  ...       72.986448     0.431557   \n",
              "min           0.000000       -59.320000  ...    -1762.000000     0.047000   \n",
              "25%           0.040000        -0.447000  ...     -197.000000     4.215750   \n",
              "50%           0.192000        -0.207000  ...     -159.000000     4.439000   \n",
              "75%           0.378850        -0.045000  ...     -112.000000     4.544000   \n",
              "max          85.540000         0.000000  ...        0.000000     5.364000   \n",
              "\n",
              "       koi_slogg_err1  koi_slogg_err2     koi_srad  koi_srad_err1  \\\n",
              "count     8744.000000     8744.000000  8744.000000    8744.000000   \n",
              "mean         0.120733       -0.140411     1.704566       0.352884   \n",
              "std          0.132813        0.082936     5.682429       0.906364   \n",
              "min          0.000000       -1.207000     0.109000       0.000000   \n",
              "25%          0.043000       -0.195000     0.826000       0.125750   \n",
              "50%          0.070000       -0.127000     0.997000       0.246000   \n",
              "75%          0.149000       -0.087000     1.346250       0.356000   \n",
              "max          1.472000        0.000000   180.013000      33.091000   \n",
              "\n",
              "       koi_srad_err2           ra          dec   koi_kepmag  \n",
              "count    8744.000000  8744.000000  8744.000000  8744.000000  \n",
              "mean       -0.379933   292.075061    43.828259    14.273969  \n",
              "std         1.810943     4.772918     3.599786     1.343509  \n",
              "min      -103.825000   279.852720    36.577381     6.966000  \n",
              "25%        -0.247000   288.670237    40.805911    13.474000  \n",
              "50%        -0.111000   292.285005    43.703989    14.534000  \n",
              "75%        -0.069000   295.900510    46.722135    15.318250  \n",
              "max         0.000000   301.720760    52.336010    19.065000  \n",
              "\n",
              "[8 rows x 37 columns]"
            ],
            "text/html": [
              "\n",
              "  <div id=\"df-49464eb3-3aac-41fe-9259-72d1aa2c73d1\" class=\"colab-df-container\">\n",
              "    <div>\n",
              "<style scoped>\n",
              "    .dataframe tbody tr th:only-of-type {\n",
              "        vertical-align: middle;\n",
              "    }\n",
              "\n",
              "    .dataframe tbody tr th {\n",
              "        vertical-align: top;\n",
              "    }\n",
              "\n",
              "    .dataframe thead th {\n",
              "        text-align: right;\n",
              "    }\n",
              "</style>\n",
              "<table border=\"1\" class=\"dataframe\">\n",
              "  <thead>\n",
              "    <tr style=\"text-align: right;\">\n",
              "      <th></th>\n",
              "      <th>koi_fpflag_nt</th>\n",
              "      <th>koi_fpflag_ss</th>\n",
              "      <th>koi_fpflag_co</th>\n",
              "      <th>koi_fpflag_ec</th>\n",
              "      <th>koi_period</th>\n",
              "      <th>koi_period_err1</th>\n",
              "      <th>koi_period_err2</th>\n",
              "      <th>koi_impact</th>\n",
              "      <th>koi_impact_err1</th>\n",
              "      <th>koi_impact_err2</th>\n",
              "      <th>...</th>\n",
              "      <th>koi_steff_err2</th>\n",
              "      <th>koi_slogg</th>\n",
              "      <th>koi_slogg_err1</th>\n",
              "      <th>koi_slogg_err2</th>\n",
              "      <th>koi_srad</th>\n",
              "      <th>koi_srad_err1</th>\n",
              "      <th>koi_srad_err2</th>\n",
              "      <th>ra</th>\n",
              "      <th>dec</th>\n",
              "      <th>koi_kepmag</th>\n",
              "    </tr>\n",
              "  </thead>\n",
              "  <tbody>\n",
              "    <tr>\n",
              "      <th>count</th>\n",
              "      <td>8744.000000</td>\n",
              "      <td>8744.000000</td>\n",
              "      <td>8744.000000</td>\n",
              "      <td>8744.000000</td>\n",
              "      <td>8744.000000</td>\n",
              "      <td>8.744000e+03</td>\n",
              "      <td>8.744000e+03</td>\n",
              "      <td>8744.000000</td>\n",
              "      <td>8744.000000</td>\n",
              "      <td>8744.000000</td>\n",
              "      <td>...</td>\n",
              "      <td>8744.000000</td>\n",
              "      <td>8744.000000</td>\n",
              "      <td>8744.000000</td>\n",
              "      <td>8744.000000</td>\n",
              "      <td>8744.000000</td>\n",
              "      <td>8744.000000</td>\n",
              "      <td>8744.000000</td>\n",
              "      <td>8744.000000</td>\n",
              "      <td>8744.000000</td>\n",
              "      <td>8744.000000</td>\n",
              "    </tr>\n",
              "    <tr>\n",
              "      <th>mean</th>\n",
              "      <td>0.183211</td>\n",
              "      <td>0.242681</td>\n",
              "      <td>0.203454</td>\n",
              "      <td>0.125000</td>\n",
              "      <td>56.080618</td>\n",
              "      <td>1.839523e-03</td>\n",
              "      <td>-1.839523e-03</td>\n",
              "      <td>0.718315</td>\n",
              "      <td>1.972656</td>\n",
              "      <td>-0.330185</td>\n",
              "      <td>...</td>\n",
              "      <td>-161.354758</td>\n",
              "      <td>4.310223</td>\n",
              "      <td>0.120733</td>\n",
              "      <td>-0.140411</td>\n",
              "      <td>1.704566</td>\n",
              "      <td>0.352884</td>\n",
              "      <td>-0.379933</td>\n",
              "      <td>292.075061</td>\n",
              "      <td>43.828259</td>\n",
              "      <td>14.273969</td>\n",
              "    </tr>\n",
              "    <tr>\n",
              "      <th>std</th>\n",
              "      <td>4.982739</td>\n",
              "      <td>0.428728</td>\n",
              "      <td>0.402590</td>\n",
              "      <td>0.330738</td>\n",
              "      <td>117.385280</td>\n",
              "      <td>7.276504e-03</td>\n",
              "      <td>7.276504e-03</td>\n",
              "      <td>3.176618</td>\n",
              "      <td>9.464462</td>\n",
              "      <td>1.227048</td>\n",
              "      <td>...</td>\n",
              "      <td>72.986448</td>\n",
              "      <td>0.431557</td>\n",
              "      <td>0.132813</td>\n",
              "      <td>0.082936</td>\n",
              "      <td>5.682429</td>\n",
              "      <td>0.906364</td>\n",
              "      <td>1.810943</td>\n",
              "      <td>4.772918</td>\n",
              "      <td>3.599786</td>\n",
              "      <td>1.343509</td>\n",
              "    </tr>\n",
              "    <tr>\n",
              "      <th>min</th>\n",
              "      <td>0.000000</td>\n",
              "      <td>0.000000</td>\n",
              "      <td>0.000000</td>\n",
              "      <td>0.000000</td>\n",
              "      <td>0.259820</td>\n",
              "      <td>1.100000e-08</td>\n",
              "      <td>-1.568000e-01</td>\n",
              "      <td>0.000000</td>\n",
              "      <td>0.000000</td>\n",
              "      <td>-59.320000</td>\n",
              "      <td>...</td>\n",
              "      <td>-1762.000000</td>\n",
              "      <td>0.047000</td>\n",
              "      <td>0.000000</td>\n",
              "      <td>-1.207000</td>\n",
              "      <td>0.109000</td>\n",
              "      <td>0.000000</td>\n",
              "      <td>-103.825000</td>\n",
              "      <td>279.852720</td>\n",
              "      <td>36.577381</td>\n",
              "      <td>6.966000</td>\n",
              "    </tr>\n",
              "    <tr>\n",
              "      <th>25%</th>\n",
              "      <td>0.000000</td>\n",
              "      <td>0.000000</td>\n",
              "      <td>0.000000</td>\n",
              "      <td>0.000000</td>\n",
              "      <td>2.667824</td>\n",
              "      <td>5.286750e-06</td>\n",
              "      <td>-2.456250e-04</td>\n",
              "      <td>0.197000</td>\n",
              "      <td>0.040000</td>\n",
              "      <td>-0.447000</td>\n",
              "      <td>...</td>\n",
              "      <td>-197.000000</td>\n",
              "      <td>4.215750</td>\n",
              "      <td>0.043000</td>\n",
              "      <td>-0.195000</td>\n",
              "      <td>0.826000</td>\n",
              "      <td>0.125750</td>\n",
              "      <td>-0.247000</td>\n",
              "      <td>288.670237</td>\n",
              "      <td>40.805911</td>\n",
              "      <td>13.474000</td>\n",
              "    </tr>\n",
              "    <tr>\n",
              "      <th>50%</th>\n",
              "      <td>0.000000</td>\n",
              "      <td>0.000000</td>\n",
              "      <td>0.000000</td>\n",
              "      <td>0.000000</td>\n",
              "      <td>8.970985</td>\n",
              "      <td>3.323000e-05</td>\n",
              "      <td>-3.323000e-05</td>\n",
              "      <td>0.540500</td>\n",
              "      <td>0.192000</td>\n",
              "      <td>-0.207000</td>\n",
              "      <td>...</td>\n",
              "      <td>-159.000000</td>\n",
              "      <td>4.439000</td>\n",
              "      <td>0.070000</td>\n",
              "      <td>-0.127000</td>\n",
              "      <td>0.997000</td>\n",
              "      <td>0.246000</td>\n",
              "      <td>-0.111000</td>\n",
              "      <td>292.285005</td>\n",
              "      <td>43.703989</td>\n",
              "      <td>14.534000</td>\n",
              "    </tr>\n",
              "    <tr>\n",
              "      <th>75%</th>\n",
              "      <td>0.000000</td>\n",
              "      <td>0.000000</td>\n",
              "      <td>0.000000</td>\n",
              "      <td>0.000000</td>\n",
              "      <td>34.190033</td>\n",
              "      <td>2.456250e-04</td>\n",
              "      <td>-5.286750e-06</td>\n",
              "      <td>0.889000</td>\n",
              "      <td>0.378850</td>\n",
              "      <td>-0.045000</td>\n",
              "      <td>...</td>\n",
              "      <td>-112.000000</td>\n",
              "      <td>4.544000</td>\n",
              "      <td>0.149000</td>\n",
              "      <td>-0.087000</td>\n",
              "      <td>1.346250</td>\n",
              "      <td>0.356000</td>\n",
              "      <td>-0.069000</td>\n",
              "      <td>295.900510</td>\n",
              "      <td>46.722135</td>\n",
              "      <td>15.318250</td>\n",
              "    </tr>\n",
              "    <tr>\n",
              "      <th>max</th>\n",
              "      <td>465.000000</td>\n",
              "      <td>1.000000</td>\n",
              "      <td>1.000000</td>\n",
              "      <td>1.000000</td>\n",
              "      <td>1071.232624</td>\n",
              "      <td>1.568000e-01</td>\n",
              "      <td>-1.100000e-08</td>\n",
              "      <td>100.806000</td>\n",
              "      <td>85.540000</td>\n",
              "      <td>0.000000</td>\n",
              "      <td>...</td>\n",
              "      <td>0.000000</td>\n",
              "      <td>5.364000</td>\n",
              "      <td>1.472000</td>\n",
              "      <td>0.000000</td>\n",
              "      <td>180.013000</td>\n",
              "      <td>33.091000</td>\n",
              "      <td>0.000000</td>\n",
              "      <td>301.720760</td>\n",
              "      <td>52.336010</td>\n",
              "      <td>19.065000</td>\n",
              "    </tr>\n",
              "  </tbody>\n",
              "</table>\n",
              "<p>8 rows × 37 columns</p>\n",
              "</div>\n",
              "    <div class=\"colab-df-buttons\">\n",
              "\n",
              "  <div class=\"colab-df-container\">\n",
              "    <button class=\"colab-df-convert\" onclick=\"convertToInteractive('df-49464eb3-3aac-41fe-9259-72d1aa2c73d1')\"\n",
              "            title=\"Convert this dataframe to an interactive table.\"\n",
              "            style=\"display:none;\">\n",
              "\n",
              "  <svg xmlns=\"http://www.w3.org/2000/svg\" height=\"24px\" viewBox=\"0 -960 960 960\">\n",
              "    <path d=\"M120-120v-720h720v720H120Zm60-500h600v-160H180v160Zm220 220h160v-160H400v160Zm0 220h160v-160H400v160ZM180-400h160v-160H180v160Zm440 0h160v-160H620v160ZM180-180h160v-160H180v160Zm440 0h160v-160H620v160Z\"/>\n",
              "  </svg>\n",
              "    </button>\n",
              "\n",
              "  <style>\n",
              "    .colab-df-container {\n",
              "      display:flex;\n",
              "      gap: 12px;\n",
              "    }\n",
              "\n",
              "    .colab-df-convert {\n",
              "      background-color: #E8F0FE;\n",
              "      border: none;\n",
              "      border-radius: 50%;\n",
              "      cursor: pointer;\n",
              "      display: none;\n",
              "      fill: #1967D2;\n",
              "      height: 32px;\n",
              "      padding: 0 0 0 0;\n",
              "      width: 32px;\n",
              "    }\n",
              "\n",
              "    .colab-df-convert:hover {\n",
              "      background-color: #E2EBFA;\n",
              "      box-shadow: 0px 1px 2px rgba(60, 64, 67, 0.3), 0px 1px 3px 1px rgba(60, 64, 67, 0.15);\n",
              "      fill: #174EA6;\n",
              "    }\n",
              "\n",
              "    .colab-df-buttons div {\n",
              "      margin-bottom: 4px;\n",
              "    }\n",
              "\n",
              "    [theme=dark] .colab-df-convert {\n",
              "      background-color: #3B4455;\n",
              "      fill: #D2E3FC;\n",
              "    }\n",
              "\n",
              "    [theme=dark] .colab-df-convert:hover {\n",
              "      background-color: #434B5C;\n",
              "      box-shadow: 0px 1px 3px 1px rgba(0, 0, 0, 0.15);\n",
              "      filter: drop-shadow(0px 1px 2px rgba(0, 0, 0, 0.3));\n",
              "      fill: #FFFFFF;\n",
              "    }\n",
              "  </style>\n",
              "\n",
              "    <script>\n",
              "      const buttonEl =\n",
              "        document.querySelector('#df-49464eb3-3aac-41fe-9259-72d1aa2c73d1 button.colab-df-convert');\n",
              "      buttonEl.style.display =\n",
              "        google.colab.kernel.accessAllowed ? 'block' : 'none';\n",
              "\n",
              "      async function convertToInteractive(key) {\n",
              "        const element = document.querySelector('#df-49464eb3-3aac-41fe-9259-72d1aa2c73d1');\n",
              "        const dataTable =\n",
              "          await google.colab.kernel.invokeFunction('convertToInteractive',\n",
              "                                                    [key], {});\n",
              "        if (!dataTable) return;\n",
              "\n",
              "        const docLinkHtml = 'Like what you see? Visit the ' +\n",
              "          '<a target=\"_blank\" href=https://colab.research.google.com/notebooks/data_table.ipynb>data table notebook</a>'\n",
              "          + ' to learn more about interactive tables.';\n",
              "        element.innerHTML = '';\n",
              "        dataTable['output_type'] = 'display_data';\n",
              "        await google.colab.output.renderOutput(dataTable, element);\n",
              "        const docLink = document.createElement('div');\n",
              "        docLink.innerHTML = docLinkHtml;\n",
              "        element.appendChild(docLink);\n",
              "      }\n",
              "    </script>\n",
              "  </div>\n",
              "\n",
              "\n",
              "<div id=\"df-5958efba-3dfa-4a55-aa59-9a454854a75b\">\n",
              "  <button class=\"colab-df-quickchart\" onclick=\"quickchart('df-5958efba-3dfa-4a55-aa59-9a454854a75b')\"\n",
              "            title=\"Suggest charts.\"\n",
              "            style=\"display:none;\">\n",
              "\n",
              "<svg xmlns=\"http://www.w3.org/2000/svg\" height=\"24px\"viewBox=\"0 0 24 24\"\n",
              "     width=\"24px\">\n",
              "    <g>\n",
              "        <path d=\"M19 3H5c-1.1 0-2 .9-2 2v14c0 1.1.9 2 2 2h14c1.1 0 2-.9 2-2V5c0-1.1-.9-2-2-2zM9 17H7v-7h2v7zm4 0h-2V7h2v10zm4 0h-2v-4h2v4z\"/>\n",
              "    </g>\n",
              "</svg>\n",
              "  </button>\n",
              "\n",
              "<style>\n",
              "  .colab-df-quickchart {\n",
              "      --bg-color: #E8F0FE;\n",
              "      --fill-color: #1967D2;\n",
              "      --hover-bg-color: #E2EBFA;\n",
              "      --hover-fill-color: #174EA6;\n",
              "      --disabled-fill-color: #AAA;\n",
              "      --disabled-bg-color: #DDD;\n",
              "  }\n",
              "\n",
              "  [theme=dark] .colab-df-quickchart {\n",
              "      --bg-color: #3B4455;\n",
              "      --fill-color: #D2E3FC;\n",
              "      --hover-bg-color: #434B5C;\n",
              "      --hover-fill-color: #FFFFFF;\n",
              "      --disabled-bg-color: #3B4455;\n",
              "      --disabled-fill-color: #666;\n",
              "  }\n",
              "\n",
              "  .colab-df-quickchart {\n",
              "    background-color: var(--bg-color);\n",
              "    border: none;\n",
              "    border-radius: 50%;\n",
              "    cursor: pointer;\n",
              "    display: none;\n",
              "    fill: var(--fill-color);\n",
              "    height: 32px;\n",
              "    padding: 0;\n",
              "    width: 32px;\n",
              "  }\n",
              "\n",
              "  .colab-df-quickchart:hover {\n",
              "    background-color: var(--hover-bg-color);\n",
              "    box-shadow: 0 1px 2px rgba(60, 64, 67, 0.3), 0 1px 3px 1px rgba(60, 64, 67, 0.15);\n",
              "    fill: var(--button-hover-fill-color);\n",
              "  }\n",
              "\n",
              "  .colab-df-quickchart-complete:disabled,\n",
              "  .colab-df-quickchart-complete:disabled:hover {\n",
              "    background-color: var(--disabled-bg-color);\n",
              "    fill: var(--disabled-fill-color);\n",
              "    box-shadow: none;\n",
              "  }\n",
              "\n",
              "  .colab-df-spinner {\n",
              "    border: 2px solid var(--fill-color);\n",
              "    border-color: transparent;\n",
              "    border-bottom-color: var(--fill-color);\n",
              "    animation:\n",
              "      spin 1s steps(1) infinite;\n",
              "  }\n",
              "\n",
              "  @keyframes spin {\n",
              "    0% {\n",
              "      border-color: transparent;\n",
              "      border-bottom-color: var(--fill-color);\n",
              "      border-left-color: var(--fill-color);\n",
              "    }\n",
              "    20% {\n",
              "      border-color: transparent;\n",
              "      border-left-color: var(--fill-color);\n",
              "      border-top-color: var(--fill-color);\n",
              "    }\n",
              "    30% {\n",
              "      border-color: transparent;\n",
              "      border-left-color: var(--fill-color);\n",
              "      border-top-color: var(--fill-color);\n",
              "      border-right-color: var(--fill-color);\n",
              "    }\n",
              "    40% {\n",
              "      border-color: transparent;\n",
              "      border-right-color: var(--fill-color);\n",
              "      border-top-color: var(--fill-color);\n",
              "    }\n",
              "    60% {\n",
              "      border-color: transparent;\n",
              "      border-right-color: var(--fill-color);\n",
              "    }\n",
              "    80% {\n",
              "      border-color: transparent;\n",
              "      border-right-color: var(--fill-color);\n",
              "      border-bottom-color: var(--fill-color);\n",
              "    }\n",
              "    90% {\n",
              "      border-color: transparent;\n",
              "      border-bottom-color: var(--fill-color);\n",
              "    }\n",
              "  }\n",
              "</style>\n",
              "\n",
              "  <script>\n",
              "    async function quickchart(key) {\n",
              "      const quickchartButtonEl =\n",
              "        document.querySelector('#' + key + ' button');\n",
              "      quickchartButtonEl.disabled = true;  // To prevent multiple clicks.\n",
              "      quickchartButtonEl.classList.add('colab-df-spinner');\n",
              "      try {\n",
              "        const charts = await google.colab.kernel.invokeFunction(\n",
              "            'suggestCharts', [key], {});\n",
              "      } catch (error) {\n",
              "        console.error('Error during call to suggestCharts:', error);\n",
              "      }\n",
              "      quickchartButtonEl.classList.remove('colab-df-spinner');\n",
              "      quickchartButtonEl.classList.add('colab-df-quickchart-complete');\n",
              "    }\n",
              "    (() => {\n",
              "      let quickchartButtonEl =\n",
              "        document.querySelector('#df-5958efba-3dfa-4a55-aa59-9a454854a75b button');\n",
              "      quickchartButtonEl.style.display =\n",
              "        google.colab.kernel.accessAllowed ? 'block' : 'none';\n",
              "    })();\n",
              "  </script>\n",
              "</div>\n",
              "    </div>\n",
              "  </div>\n"
            ]
          },
          "metadata": {},
          "execution_count": 7
        }
      ]
    },
    {
      "cell_type": "markdown",
      "source": [
        "koi_fpflag_nt is a flag value hence cannot have a value of 465, so we'll drop the rows having that value\n"
      ],
      "metadata": {
        "id": "qDJShoSRYL8w"
      }
    },
    {
      "cell_type": "code",
      "source": [
        "num_data.drop(num_data[num_data.koi_fpflag_nt == num_data.koi_fpflag_nt.max()].index, inplace=True)"
      ],
      "metadata": {
        "id": "IARxgQqOYmUt"
      },
      "execution_count": 8,
      "outputs": []
    },
    {
      "cell_type": "markdown",
      "source": [
        "candidate = 0\n",
        "confirmed = 1\n",
        "false positive = 2 in k_disposition\n"
      ],
      "metadata": {
        "id": "BeY1chVEI-1O"
      }
    },
    {
      "cell_type": "markdown",
      "source": [
        "candidate = 0\n",
        "false positive = 1 in k_pdisposition"
      ],
      "metadata": {
        "id": "2_JOP-dUJOOK"
      }
    },
    {
      "cell_type": "markdown",
      "source": [
        "Removing columns which have a high correlation coefficient with some others"
      ],
      "metadata": {
        "id": "jlY6MUtRlCZJ"
      }
    },
    {
      "cell_type": "code",
      "source": [
        "def remove_high_corr(df, threshold):\n",
        "    trimask = df.corr().abs().mask(~np.triu(np.ones(df.corr().shape, dtype=bool), k=1))\n",
        "    blocklist = [col for col in trimask.columns if (trimask[col] > threshold).any()]\n",
        "    df.drop(columns=blocklist, axis=1,inplace=True)\n",
        "remove_high_corr(num_data, 0.80)"
      ],
      "metadata": {
        "colab": {
          "base_uri": "https://localhost:8080/"
        },
        "id": "-2CggsW_lB6J",
        "outputId": "7a54876b-c47f-4a97-b9d6-841f47a46ac2"
      },
      "execution_count": 9,
      "outputs": [
        {
          "output_type": "stream",
          "name": "stderr",
          "text": [
            "<ipython-input-9-623b32b04538>:2: FutureWarning: The default value of numeric_only in DataFrame.corr is deprecated. In a future version, it will default to False. Select only valid columns or specify the value of numeric_only to silence this warning.\n",
            "  trimask = df.corr().abs().mask(~np.triu(np.ones(df.corr().shape, dtype=bool), k=1))\n"
          ]
        }
      ]
    },
    {
      "cell_type": "code",
      "source": [
        "sns.heatmap(num_data.corr(), cmap=\"Blues\")"
      ],
      "metadata": {
        "colab": {
          "base_uri": "https://localhost:8080/",
          "height": 596
        },
        "id": "gb67mbVDlyEo",
        "outputId": "08b25a85-04d1-4069-f5f1-f74b0e3565ff"
      },
      "execution_count": 10,
      "outputs": [
        {
          "output_type": "stream",
          "name": "stderr",
          "text": [
            "<ipython-input-10-f64e7d0f897b>:1: FutureWarning: The default value of numeric_only in DataFrame.corr is deprecated. In a future version, it will default to False. Select only valid columns or specify the value of numeric_only to silence this warning.\n",
            "  sns.heatmap(num_data.corr(), cmap=\"Blues\")\n"
          ]
        },
        {
          "output_type": "execute_result",
          "data": {
            "text/plain": [
              "<Axes: >"
            ]
          },
          "metadata": {},
          "execution_count": 10
        },
        {
          "output_type": "display_data",
          "data": {
            "text/plain": [
              "<Figure size 640x480 with 2 Axes>"
            ],
            "image/png": "[encoded data removed]"
          },
          "metadata": {}
        }
      ]
    },
    {
      "cell_type": "markdown",
      "source": [
        "###Splitting into training and test data"
      ],
      "metadata": {
        "id": "YE-gARxzk2YX"
      }
    },
    {
      "cell_type": "code",
      "source": [
        "from sklearn.preprocessing import LabelEncoder\n",
        "from sklearn.model_selection import train_test_split\n",
        "X = num_data.iloc[:, 1:].values\n",
        "y = LabelEncoder().fit_transform(num_data.iloc[:, 0].values)\n",
        "X_train, X_test, y_train, y_test = train_test_split(X, y, test_size = 0.25, shuffle = True) # 80/20"
      ],
      "metadata": {
        "id": "4Wmg9Mjyk1uE"
      },
      "execution_count": 11,
      "outputs": []
    },
    {
      "cell_type": "markdown",
      "source": [
        "###Feature Scaling"
      ],
      "metadata": {
        "id": "MK3G9bigggJh"
      }
    },
    {
      "cell_type": "code",
      "source": [
        "from sklearn.preprocessing import StandardScaler\n",
        "sc = StandardScaler()\n",
        "X_train[:,4:] = sc.fit_transform(X_train[:,4:])\n",
        "X_test[:,4:]=sc.transform(X_test[:,4:])\n",
        "# first 4 columns needn't be standardized"
      ],
      "metadata": {
        "id": "EImyVXK2aGOE"
      },
      "execution_count": 12,
      "outputs": []
    },
    {
      "cell_type": "markdown",
      "source": [
        "##Training and Testing the Model"
      ],
      "metadata": {
        "id": "jv5cCgiAs9HY"
      }
    },
    {
      "cell_type": "markdown",
      "source": [
        "###XGBoost\n"
      ],
      "metadata": {
        "id": "fedKACL9woDM"
      }
    },
    {
      "cell_type": "code",
      "source": [
        "import xgboost as xgb\n",
        "classifier_XGB = xgb.XGBClassifier(learning_rate = 0.1, min_child_weight = 1, gamma = 0, max_depth = 5, n_estimators = 1000, scale_pos_weight = 1, subsample = 0.8, colsample_bytree = 0.8, nthread = 4)\n",
        "classifier_XGB.fit(X_train, y_train)\n",
        "# predicting test data\n",
        "y_pred_XGB = classifier_XGB.predict(X_test)"
      ],
      "metadata": {
        "colab": {
          "base_uri": "https://localhost:8080/"
        },
        "id": "WUGH0EsdiNjx",
        "outputId": "5eacccca-580c-4349-c900-76adf12034db"
      },
      "execution_count": 13,
      "outputs": [
        {
          "output_type": "stream",
          "name": "stderr",
          "text": [
            "/usr/local/lib/python3.10/dist-packages/xgboost/core.py:160: UserWarning: [18:05:01] WARNING: /workspace/src/learner.cc:742: \n",
            "Parameters: { \"scale_pos_weight\" } are not used.\n",
            "\n",
            "  warnings.warn(smsg, UserWarning)\n"
          ]
        }
      ]
    },
    {
      "cell_type": "code",
      "source": [
        "# Confusion matrix\n",
        "from sklearn.metrics import confusion_matrix\n",
        "cm_XGB = confusion_matrix(y_test, y_pred_XGB)\n",
        "sns.heatmap(cm_XGB, annot = True)"
      ],
      "metadata": {
        "colab": {
          "base_uri": "https://localhost:8080/",
          "height": 448
        },
        "id": "roZeI_zzGCmh",
        "outputId": "a33acc94-d3b8-494a-889a-3e0e1fcb794c"
      },
      "execution_count": 14,
      "outputs": [
        {
          "output_type": "execute_result",
          "data": {
            "text/plain": [
              "<Axes: >"
            ]
          },
          "metadata": {},
          "execution_count": 14
        },
        {
          "output_type": "display_data",
          "data": {
            "text/plain": [
              "<Figure size 640x480 with 2 Axes>"
            ],
            "image/png": "[encoded data removed]"
          },
          "metadata": {}
        }
      ]
    },
    {
      "cell_type": "code",
      "source": [
        "# Accuracy scores\n",
        "print(f\"Training set score: {classifier_XGB.score(X_train, y_train)*100:.2f}\")\n",
        "print(f\"Test set score: {classifier_XGB.score(X_test, y_test)*100:.2f}\")"
      ],
      "metadata": {
        "colab": {
          "base_uri": "https://localhost:8080/"
        },
        "id": "ausBGBdQGECA",
        "outputId": "d22f4dce-c7d5-450c-b11a-51fb9042c499"
      },
      "execution_count": 15,
      "outputs": [
        {
          "output_type": "stream",
          "name": "stdout",
          "text": [
            "Training set score: 100.00\n",
            "Test set score: 91.35\n"
          ]
        }
      ]
    },
    {
      "cell_type": "markdown",
      "source": [
        "###Kernel SVM"
      ],
      "metadata": {
        "id": "rE-zbXfxxMFe"
      }
    },
    {
      "cell_type": "code",
      "source": [
        "from sklearn.svm import SVC\n",
        "classifier_SVC = SVC(kernel = 'rbf')\n",
        "classifier_SVC.fit(X_train, y_train)\n",
        "# predicting test data\n",
        "y_pred_SVC = classifier_SVC.predict(X_test)"
      ],
      "metadata": {
        "id": "otsP058Wt3m8"
      },
      "execution_count": 16,
      "outputs": []
    },
    {
      "cell_type": "code",
      "source": [
        "# Confusion matrix\n",
        "cm_SVC = confusion_matrix(y_test, y_pred_SVC)\n",
        "sns.heatmap(cm_SVC, annot = True)"
      ],
      "metadata": {
        "colab": {
          "base_uri": "https://localhost:8080/",
          "height": 450
        },
        "id": "rA10H_8FuBHJ",
        "outputId": "287e5313-40cb-4a1f-f787-9ae03988f4bc"
      },
      "execution_count": 17,
      "outputs": [
        {
          "output_type": "execute_result",
          "data": {
            "text/plain": [
              "<Axes: >"
            ]
          },
          "metadata": {},
          "execution_count": 17
        },
        {
          "output_type": "display_data",
          "data": {
            "text/plain": [
              "<Figure size 640x480 with 2 Axes>"
            ],
            "image/png": "[encoded data removed]"
          },
          "metadata": {}
        }
      ]
    },
    {
      "cell_type": "code",
      "source": [
        "# Accuracy scores\n",
        "print(f\"Training set score: {classifier_SVC.score(X_train, y_train)*100:.2f}\")\n",
        "print(f\"Test set score: {classifier_SVC.score(X_test, y_test)*100:.2f}\")"
      ],
      "metadata": {
        "colab": {
          "base_uri": "https://localhost:8080/"
        },
        "id": "pfpBfGB2xYaw",
        "outputId": "04d366b2-e4cb-48a4-d3a6-7aae3f26cafb"
      },
      "execution_count": 18,
      "outputs": [
        {
          "output_type": "stream",
          "name": "stdout",
          "text": [
            "Training set score: 89.60\n",
            "Test set score: 87.01\n"
          ]
        }
      ]
    },
    {
      "cell_type": "markdown",
      "source": [
        "###Logistic Regression"
      ],
      "metadata": {
        "id": "qnM6ajO6yR6K"
      }
    },
    {
      "cell_type": "code",
      "source": [
        "from sklearn.linear_model import LogisticRegression\n",
        "classifier_LR = LogisticRegression()\n",
        "classifier_LR.fit(X_train, y_train)\n",
        "# predicting test data\n",
        "y_pred_LR = classifier_LR.predict(X_test)"
      ],
      "metadata": {
        "colab": {
          "base_uri": "https://localhost:8080/"
        },
        "id": "Db_Xle0RuCy-",
        "outputId": "7380ad70-58ae-4b13-8896-42e6d3f9c873"
      },
      "execution_count": 19,
      "outputs": [
        {
          "output_type": "stream",
          "name": "stderr",
          "text": [
            "/usr/local/lib/python3.10/dist-packages/sklearn/linear_model/_logistic.py:458: ConvergenceWarning: lbfgs failed to converge (status=1):\n",
            "STOP: TOTAL NO. of ITERATIONS REACHED LIMIT.\n",
            "\n",
            "Increase the number of iterations (max_iter) or scale the data as shown in:\n",
            "    https://scikit-learn.org/stable/modules/preprocessing.html\n",
            "Please also refer to the documentation for alternative solver options:\n",
            "    https://scikit-learn.org/stable/modules/linear_model.html#logistic-regression\n",
            "  n_iter_i = _check_optimize_result(\n"
          ]
        }
      ]
    },
    {
      "cell_type": "code",
      "source": [
        "# Confusion matrix\n",
        "cm_LR = confusion_matrix(y_test, y_pred_LR)\n",
        "sns.heatmap(cm_LR, annot = True)"
      ],
      "metadata": {
        "colab": {
          "base_uri": "https://localhost:8080/",
          "height": 449
        },
        "id": "l94RKiInuu47",
        "outputId": "bff25715-daf1-4efa-a540-15fd57874be2"
      },
      "execution_count": 20,
      "outputs": [
        {
          "output_type": "execute_result",
          "data": {
            "text/plain": [
              "<Axes: >"
            ]
          },
          "metadata": {},
          "execution_count": 20
        },
        {
          "output_type": "display_data",
          "data": {
            "text/plain": [
              "<Figure size 640x480 with 2 Axes>"
            ],
            "image/png": "[encoded data removed]"
          },
          "metadata": {}
        }
      ]
    },
    {
      "cell_type": "code",
      "source": [
        "# Accuracy scores\n",
        "print(f\"Training set score: {classifier_LR.score(X_train, y_train)*100:.2f}\")\n",
        "print(f\"Test set score: {classifier_LR.score(X_test, y_test)*100:.2f}\")"
      ],
      "metadata": {
        "colab": {
          "base_uri": "https://localhost:8080/"
        },
        "id": "UOAgVETnzsA0",
        "outputId": "dac150db-f479-4348-ce77-3135bb6c3b7c"
      },
      "execution_count": 21,
      "outputs": [
        {
          "output_type": "stream",
          "name": "stdout",
          "text": [
            "Training set score: 89.74\n",
            "Test set score: 88.24\n"
          ]
        }
      ]
    },
    {
      "cell_type": "markdown",
      "source": [
        "###Naive Bayes"
      ],
      "metadata": {
        "id": "C27XMl28z5jc"
      }
    },
    {
      "cell_type": "code",
      "source": [
        "from sklearn.naive_bayes import GaussianNB\n",
        "classifier_NB = GaussianNB()\n",
        "classifier_NB.fit(X_train, y_train)\n",
        "# predicting test data\n",
        "y_pred_NB = classifier_NB.predict(X_test)"
      ],
      "metadata": {
        "id": "9J8QoaTkuwa-"
      },
      "execution_count": 22,
      "outputs": []
    },
    {
      "cell_type": "code",
      "source": [
        "# Confusion matrix\n",
        "cm_NB = confusion_matrix(y_test, y_pred_NB)\n",
        "sns.heatmap(cm_NB, annot = True)"
      ],
      "metadata": {
        "colab": {
          "base_uri": "https://localhost:8080/",
          "height": 448
        },
        "id": "d1vlR08Su9My",
        "outputId": "8bb92123-8309-44fc-9f4d-15cb7ea3f0b5"
      },
      "execution_count": 23,
      "outputs": [
        {
          "output_type": "execute_result",
          "data": {
            "text/plain": [
              "<Axes: >"
            ]
          },
          "metadata": {},
          "execution_count": 23
        },
        {
          "output_type": "display_data",
          "data": {
            "text/plain": [
              "<Figure size 640x480 with 2 Axes>"
            ],
            "image/png": "[encoded data removed]"
          },
          "metadata": {}
        }
      ]
    },
    {
      "cell_type": "code",
      "source": [
        "# Accuracy scores\n",
        "print(f\"Training set score: {classifier_NB.score(X_train, y_train)*100:.2f}\")\n",
        "print(f\"Test set score: {classifier_NB.score(X_test, y_test)*100:.2f}\")"
      ],
      "metadata": {
        "colab": {
          "base_uri": "https://localhost:8080/"
        },
        "id": "DEa28Adl0FCd",
        "outputId": "7c4cb8de-6c6e-4b53-bc97-2e3455d8ffa6"
      },
      "execution_count": 24,
      "outputs": [
        {
          "output_type": "stream",
          "name": "stdout",
          "text": [
            "Training set score: 80.98\n",
            "Test set score: 80.38\n"
          ]
        }
      ]
    },
    {
      "cell_type": "markdown",
      "source": [
        "###Random Forest Classifier"
      ],
      "metadata": {
        "id": "orpiFwIF6Zuk"
      }
    },
    {
      "cell_type": "code",
      "source": [
        "from sklearn.ensemble import RandomForestClassifier\n",
        "classifier_RFC = RandomForestClassifier(n_estimators = 10, criterion = 'entropy')\n",
        "classifier_RFC.fit(X_train, y_train)\n",
        "# predicting test data\n",
        "y_pred_RFC = classifier_RFC.predict(X_test)"
      ],
      "metadata": {
        "id": "UMA8UMpIu-iR"
      },
      "execution_count": 25,
      "outputs": []
    },
    {
      "cell_type": "code",
      "source": [
        "# Confusion matrix\n",
        "cm_RFC = confusion_matrix(y_test, y_pred_RFC)\n",
        "sns.heatmap(cm_RFC, annot = True)"
      ],
      "metadata": {
        "colab": {
          "base_uri": "https://localhost:8080/",
          "height": 449
        },
        "id": "xzqcbjODvG0H",
        "outputId": "01d5e8c9-597f-492d-9b51-16bca036854a"
      },
      "execution_count": 26,
      "outputs": [
        {
          "output_type": "execute_result",
          "data": {
            "text/plain": [
              "<Axes: >"
            ]
          },
          "metadata": {},
          "execution_count": 26
        },
        {
          "output_type": "display_data",
          "data": {
            "text/plain": [
              "<Figure size 640x480 with 2 Axes>"
            ],
            "image/png": "[encoded data removed]"
          },
          "metadata": {}
        }
      ]
    },
    {
      "cell_type": "code",
      "source": [
        "# Accuracy scores\n",
        "print(f\"Training set score: {classifier_RFC.score(X_train, y_train)*100:.2f}\")\n",
        "print(f\"Test set score: {classifier_RFC.score(X_test, y_test)*100:.2f}\")"
      ],
      "metadata": {
        "colab": {
          "base_uri": "https://localhost:8080/"
        },
        "id": "p_3k70uG6t-M",
        "outputId": "7a9a7e29-3c0e-4ee3-9b8a-a10a034b504a"
      },
      "execution_count": 27,
      "outputs": [
        {
          "output_type": "stream",
          "name": "stdout",
          "text": [
            "Training set score: 99.41\n",
            "Test set score: 89.30\n"
          ]
        }
      ]
    },
    {
      "cell_type": "markdown",
      "source": [
        "###Decision Tree Classifier"
      ],
      "metadata": {
        "id": "jyJrftSf8Nr9"
      }
    },
    {
      "cell_type": "code",
      "source": [
        "from sklearn.tree import DecisionTreeClassifier\n",
        "classifier_DTC = DecisionTreeClassifier(criterion = 'entropy', random_state = 0)\n",
        "classifier_DTC.fit(X_train, y_train)\n",
        "# predicting test data\n",
        "y_pred_DTC = classifier_DTC.predict(X_test)"
      ],
      "metadata": {
        "id": "y-BuXs8ovH58"
      },
      "execution_count": 28,
      "outputs": []
    },
    {
      "cell_type": "code",
      "source": [
        "# Confusion matrix\n",
        "cm_DTC = confusion_matrix(y_test, y_pred_DTC)\n",
        "sns.heatmap(cm_DTC, annot = True)"
      ],
      "metadata": {
        "colab": {
          "base_uri": "https://localhost:8080/",
          "height": 448
        },
        "id": "xuDA34aEvTZ7",
        "outputId": "1a488555-ecd2-4d28-e7dd-5dee0fe8b613"
      },
      "execution_count": 29,
      "outputs": [
        {
          "output_type": "execute_result",
          "data": {
            "text/plain": [
              "<Axes: >"
            ]
          },
          "metadata": {},
          "execution_count": 29
        },
        {
          "output_type": "display_data",
          "data": {
            "text/plain": [
              "<Figure size 640x480 with 2 Axes>"
            ],
            "image/png": "[encoded data removed]"
          },
          "metadata": {}
        }
      ]
    },
    {
      "cell_type": "code",
      "source": [
        "# Accuracy scores\n",
        "print(f\"Training set score: {classifier_DTC.score(X_train, y_train)*100:.2f}\")\n",
        "print(f\"Test set score: {classifier_DTC.score(X_test, y_test)*100:.2f}\")"
      ],
      "metadata": {
        "colab": {
          "base_uri": "https://localhost:8080/"
        },
        "id": "rq_yoA4Z68Ch",
        "outputId": "837ccaba-a8fa-4edf-f613-44268d0f0680"
      },
      "execution_count": 30,
      "outputs": [
        {
          "output_type": "stream",
          "name": "stdout",
          "text": [
            "Training set score: 100.00\n",
            "Test set score: 86.46\n"
          ]
        }
      ]
    },
    {
      "cell_type": "markdown",
      "source": [
        "###K Neighbors Classifier"
      ],
      "metadata": {
        "id": "dbKiVtJ38SWP"
      }
    },
    {
      "cell_type": "code",
      "source": [
        "from sklearn.neighbors import KNeighborsClassifier\n",
        "classifier_KN = KNeighborsClassifier(n_neighbors = 5, metric = 'minkowski', p = 2)\n",
        "classifier_KN.fit(X_train, y_train)\n",
        "# predicting test data\n",
        "y_pred_KN = classifier_KN.predict(X_test)"
      ],
      "metadata": {
        "id": "_lQSQYOfvUrl"
      },
      "execution_count": 31,
      "outputs": []
    },
    {
      "cell_type": "code",
      "source": [
        "# Confusion matrix\n",
        "cm_KN = confusion_matrix(y_test, y_pred_KN)\n",
        "sns.heatmap(cm_KN, annot = True)"
      ],
      "metadata": {
        "colab": {
          "base_uri": "https://localhost:8080/",
          "height": 448
        },
        "id": "zjZSODwPvdZA",
        "outputId": "ee669ba5-3caf-49de-f912-9badee666572"
      },
      "execution_count": 32,
      "outputs": [
        {
          "output_type": "execute_result",
          "data": {
            "text/plain": [
              "<Axes: >"
            ]
          },
          "metadata": {},
          "execution_count": 32
        },
        {
          "output_type": "display_data",
          "data": {
            "text/plain": [
              "<Figure size 640x480 with 2 Axes>"
            ],
            "image/png": "[encoded data removed]"
          },
          "metadata": {}
        }
      ]
    },
    {
      "cell_type": "code",
      "source": [
        "# Accuracy scores\n",
        "print(f\"Training set score: {classifier_KN.score(X_train, y_train)*100:.2f}\")\n",
        "print(f\"Test set score: {classifier_KN.score(X_test, y_test)*100:.2f}\")"
      ],
      "metadata": {
        "colab": {
          "base_uri": "https://localhost:8080/"
        },
        "id": "-u82GvCk7e5I",
        "outputId": "05f1f279-6429-4d27-8ac7-6a66ca9996c9"
      },
      "execution_count": 33,
      "outputs": [
        {
          "output_type": "stream",
          "name": "stdout",
          "text": [
            "Training set score: 83.64\n",
            "Test set score: 74.89\n"
          ]
        }
      ]
    },
    {
      "cell_type": "markdown",
      "source": [
        "###Support Vector Machine"
      ],
      "metadata": {
        "id": "3qi4wEiV8WVY"
      }
    },
    {
      "cell_type": "code",
      "source": [
        "from sklearn.svm import SVC\n",
        "classifier_SVM = SVC(kernel = 'linear', random_state = 0)\n",
        "classifier_SVM.fit(X_train, y_train)\n",
        "# predicting test data\n",
        "y_pred_SVM = classifier_SVM.predict(X_test)"
      ],
      "metadata": {
        "id": "4KNRG-h3vevm"
      },
      "execution_count": 34,
      "outputs": []
    },
    {
      "cell_type": "code",
      "source": [
        "# Confusion matrix\n",
        "cm_SVM = confusion_matrix(y_test, y_pred_SVM)\n",
        "sns.heatmap(cm_SVM, annot = True)"
      ],
      "metadata": {
        "colab": {
          "base_uri": "https://localhost:8080/",
          "height": 448
        },
        "id": "JThALaT5vtcS",
        "outputId": "19b19402-48f1-4923-eb9f-42625418a3ac"
      },
      "execution_count": 35,
      "outputs": [
        {
          "output_type": "execute_result",
          "data": {
            "text/plain": [
              "<Axes: >"
            ]
          },
          "metadata": {},
          "execution_count": 35
        },
        {
          "output_type": "display_data",
          "data": {
            "text/plain": [
              "<Figure size 640x480 with 2 Axes>"
            ],
            "image/png": "[encoded data removed]"
          },
          "metadata": {}
        }
      ]
    },
    {
      "cell_type": "code",
      "source": [
        "# Accuracy scores\n",
        "print(f\"Training set score: {classifier_SVM.score(X_train, y_train)*100:.2f}\")\n",
        "print(f\"Test set score: {classifier_SVM.score(X_test, y_test)*100:.2f}\")"
      ],
      "metadata": {
        "colab": {
          "base_uri": "https://localhost:8080/"
        },
        "id": "j5pfmMoUvuwG",
        "outputId": "4a087879-2a06-40f5-cd7f-28ce886353a5"
      },
      "execution_count": 36,
      "outputs": [
        {
          "output_type": "stream",
          "name": "stdout",
          "text": [
            "Training set score: 89.89\n",
            "Test set score: 88.93\n"
          ]
        }
      ]
    },
    {
      "cell_type": "markdown",
      "source": [
        "XGBoost has the highest accuracy i.e. 91.35%"
      ],
      "metadata": {
        "id": "mHBG3b8TEJcX"
      }
    }
  ]
}
